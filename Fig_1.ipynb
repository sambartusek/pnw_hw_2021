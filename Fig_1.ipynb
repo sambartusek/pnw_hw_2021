{
 "cells": [
  {
   "cell_type": "markdown",
   "metadata": {},
   "source": [
    "If you have the ERA5 data, wave analysis file, and model data collected in one directory and named as in All_figs_data_setup.ipynb, this notebook should be able to replicate Figure 1 in Bartusek et al., 2022.\n",
    "\n",
    "Sam Bartusek, 2021"
   ]
  },
  {
   "cell_type": "markdown",
   "metadata": {},
   "source": [
    "## _Data setup notebook (~15 min)_"
   ]
  },
  {
   "cell_type": "code",
   "execution_count": null,
   "metadata": {},
   "outputs": [],
   "source": [
    "%run ./All_figs_data_setup.ipynb\n"
   ]
  },
  {
   "cell_type": "markdown",
   "metadata": {},
   "source": [
    "## _1a–c)_"
   ]
  },
  {
   "cell_type": "code",
   "execution_count": null,
   "metadata": {},
   "outputs": [],
   "source": [
    "# Prepare data for plotting\n",
    "\n",
    "qqs = [anomslice.t2m,\n",
    "       anomslice.z,\n",
    "       anomslice.swvl1]\n",
    "\n",
    "\n",
    "# Plot\n",
    "\n",
    "titles = ['2m temperature anomaly (06/25–07/03 mean)',\n",
    "          '500hPa geopotential height anomaly (06/25–07/03 mean)',\n",
    "          '0–7cm soil moisture anomaly (06/25–07/03 mean)']\n",
    "cbar_labels = ['Temperature [°C]',\n",
    "               'Geopotential height [m]',\n",
    "               'Soil moisture [m$^{3}$/m$^{3}$]']\n",
    "cmaps = ['RdBu_r',\n",
    "         'PuOr_r',\n",
    "         'BrBG']\n",
    "robusts = [False,\n",
    "           False,\n",
    "           True]\n",
    "yticks = [0, 15, 30, 45, 60, 75, 90]\n",
    "xticks = [0, 60, 120, 180, 240, 300, 359.9]\n",
    "xticklabels = ['0°', '60°E', '120°E', '180°', '120°W', '60°W', '0°']\n",
    "\n",
    "fig,axs = plt.subplots(len(qqs),1,subplot_kw={'projection': ccrs.PlateCarree(180)},dpi=200,figsize=(12.1,2.9*len(qqs)),sharex=True)\n",
    "for ii,qq in enumerate(qqs):\n",
    "    ax = axs.reshape(-1)[ii]\n",
    "    cyclic_dataarray(qq).plot.contourf(levels=16,ax=ax,transform=ccrs.PlateCarree(),robust=robusts[ii],cmap=cmaps[ii],cbar_kwargs={'shrink':.8,'aspect':12,'label':cbar_labels[ii]})\n",
    "    ax.set_global()\n",
    "    ax.coastlines(color='0', linewidth=.3)\n",
    "    ax.gridlines(draw_labels = False, xlocs=xticks, ylocs=yticks, color='.7', alpha=0.4, linewidth=.3)\n",
    "    ax.add_patch(matplotlib.patches.Rectangle(xy=[-130, 40], width=20, height=20,facecolor='none',edgecolor='0',alpha=1,transform=ccrs.PlateCarree()))\n",
    "    ax.set_ylim(0,90)\n",
    "    ax.yaxis.set_major_formatter(LATITUDE_FORMATTER)\n",
    "    ax.set_yticks(yticks, crs=ccrs.PlateCarree())\n",
    "    ax.set_xticks(xticks, crs=ccrs.PlateCarree())\n",
    "    ax.set_xticklabels(xticklabels)\n",
    "    ax.set_xlabel('')\n",
    "    ax.set_ylabel('')\n",
    "    ax.set_title(titles[ii],loc='left')\n"
   ]
  },
  {
   "cell_type": "markdown",
   "metadata": {},
   "source": [
    "## _1d)_"
   ]
  },
  {
   "cell_type": "code",
   "execution_count": null,
   "metadata": {},
   "outputs": [],
   "source": [
    "# Prepare data for plotting\n",
    "\n",
    "asmoothing = 3  # anomaly smoothing\n",
    "ssmoothing = 3  # std dev smoothing\n",
    "qqs = [((raw_pnw_mean.t2mland.resample(time='1D').mean('time') - allraw_df.loc['1981':'2010'].groupby('day').mean().loc['06-01':'07-06'].t2mland.rolling(asmoothing,center=True).mean().values) / allraw_df.loc['1981':'2010'].groupby('day').std().loc['06-01':'07-06'].t2mland.rolling(ssmoothing,center=True).mean().values),\n",
    "      ((raw_pnw_mean.z.resample(time='1D').mean('time') - allraw_df.loc['1981':'2010'].groupby('day').mean().loc['06-01':'07-06'].z.rolling(asmoothing,center=True).mean().values) / allraw_df.loc['1981':'2010'].groupby('day').std().loc['06-01':'07-06'].z.rolling(ssmoothing,center=True).mean().values),\n",
    "      (-(raw_pnw_mean.swvl1.resample(time='1D').mean('time') - allraw_df.loc['1981':'2010'].groupby('day').mean().loc['06-01':'07-06'].swvl1.rolling(asmoothing,center=True).mean().values) / allraw_df.loc['1981':'2010'].groupby('day').std().loc['06-01':'07-06'].swvl1.rolling(ssmoothing,center=True).mean().values),\n",
    "      ((raw_pnw_mean.t2mland.resample(time='1D').mean('time') - allraw_df.loc['1991':'2020'].groupby('day').mean().loc['06-01':'07-06'].t2mland.rolling(asmoothing,center=True).mean().values) / allraw_df.loc['1991':'2020'].groupby('day').std().loc['06-01':'07-06'].t2mland.rolling(ssmoothing,center=True).mean().values),\n",
    "      ((raw_pnw_mean.z.resample(time='1D').mean('time') - allraw_df.loc['1991':'2020'].groupby('day').mean().loc['06-01':'07-06'].z.rolling(asmoothing,center=True).mean().values) / allraw_df.loc['1991':'2020'].groupby('day').std().loc['06-01':'07-06'].z.rolling(ssmoothing,center=True).mean().values),\n",
    "      (-(raw_pnw_mean.swvl1.resample(time='1D').mean('time') - allraw_df.loc['1991':'2020'].groupby('day').mean().loc['06-01':'07-06'].swvl1.rolling(asmoothing,center=True).mean().values) / allraw_df.loc['1991':'2020'].groupby('day').std().loc['06-01':'07-06'].swvl1.rolling(ssmoothing,center=True).mean().values),\n",
    "      waves[(waves.wave==4) & (waves.phase>0)].amp_std,\n",
    "      waves[(waves.wave==4) & (waves.phase<=0)].amp_std]\n",
    "\n",
    "\n",
    "# Plot\n",
    "\n",
    "fig,ax = plt.subplots(1,1,dpi=150,figsize=(10*.925,4.5*.925))\n",
    "ax.axhline(0,c='.8')\n",
    "\n",
    "qqs[0].plot(ax=ax,marker='.',label='2m temperature',color='tab:red',zorder=4)\n",
    "qqs[1].plot(ax=ax,marker='.',label='Geopotential height',color='tab:orange',zorder=4)\n",
    "qqs[2].plot(ax=ax,marker='.',label='(Negative) soil moisture',color='tab:brown',zorder=4)\n",
    "qqs[3].plot(ax=ax,ls=':',lw=1.75*.9,label='',color='tab:red',zorder=4)\n",
    "qqs[4].plot(ax=ax,ls=':',lw=1.75*.9,label='',color='tab:orange',zorder=4)\n",
    "qqs[5].plot(ax=ax,ls=':',lw=1.75*.9,label='',color='tab:brown',zorder=4)\n",
    "ax.plot([],[],ls='-',label='w.r.t. 1981–2010',color='.5')\n",
    "ax.plot([],[],ls=':',lw=1.75*.9,label='w.r.t. 1991–2020',color='.5')\n",
    "qqs[6].plot(ax=ax,ls='none',marker='o',markeredgecolor='none',lw=3*.9,alpha=.7,label='',color='xkcd:dusty blue',zorder=3)\n",
    "qqs[7].plot(ax=ax,ls='none',marker='o',markeredgecolor='none',lw=3*.9,alpha=.7,label='',color='xkcd:yellow orange',zorder=3)\n",
    "ax.plot([],[],ls='none',marker='o',markeredgecolor='none',lw=3*.9,alpha=.7,label='Zonal wavenumber 4',color='.5')\n",
    "\n",
    "ax.set_xlim('2021-06-01','2021-07-05')\n",
    "ax.set_xticks(['2021-06-01','2021-06-04','2021-06-08','2021-06-12','2021-06-16','2021-06-20','2021-06-24','2021-06-28','2021-07-01','2021-07-04'])\n",
    "ax.set_xticklabels(['06-01','06-04','06-08','06-12','06-16','06-20','06-24','06-28','07-01','07-04'])\n",
    "ax.xaxis.set_minor_locator(matplotlib.dates.DayLocator())\n",
    "ax.grid(c='.9')\n",
    "ax.axvline('2021-06-25',c='.8',zorder=2)\n",
    "ax.axvline('2021-07-03',c='.8',zorder=2)\n",
    "ax.axhline(1.5,c='.8',ls='--',zorder=2)\n",
    "ax.axhline(-1.5,c='.8',ls='--',zorder=2)\n",
    "ax.set_ylabel('Anomaly / Std. Dev. [σ]')\n",
    "ax.set_xlabel('')\n",
    "ax.legend(loc='upper left',fontsize=9)\n",
    "ax.set_title('Standardized anomalies throughout June 2021',loc='left')\n"
   ]
  },
  {
   "cell_type": "code",
   "execution_count": null,
   "metadata": {},
   "outputs": [],
   "source": []
  }
 ],
 "metadata": {
  "kernelspec": {
   "display_name": "Python 3",
   "language": "python",
   "name": "python3"
  },
  "language_info": {
   "codemirror_mode": {
    "name": "ipython",
    "version": 3
   },
   "file_extension": ".py",
   "mimetype": "text/x-python",
   "name": "python",
   "nbconvert_exporter": "python",
   "pygments_lexer": "ipython3",
   "version": "3.6.12"
  }
 },
 "nbformat": 4,
 "nbformat_minor": 4
}
